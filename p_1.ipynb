{
 "cells": [
  {
   "cell_type": "markdown",
   "metadata": {},
   "source": [
    "### WHAT IS GITHUB?\n",
    "\n",
    "- Founded in 2008, GitHub is an online software development platform, allowing users\n",
    "to collaborate on software projects of various sizes. People can work together, in the\n",
    "same code bases, all across the world! It's also free which is nice!!!\n",
    "- Why is it important and worth learning GitHub? That's a fair question with a few solid reasons behind it.\n",
    "As graduate students diving into data science, you might not have much experience writing code that other people\n",
    "will use, or managing lots of code at once. GitHub is more than just a tool—it’s a way to organize and collaborate\n",
    "on projects, even if you’re new to coding. It tracks every change you make, lets you easily go back if something\n",
    "breaks, and helps avoid the chaos of overwriting someone else’s work. Plus, learning GitHub early on makes group\n",
    "projects easier and shows employers you can handle real-world workflows. Spend the time now mastering it—it’ll\n",
    "save you headaches down the road and make you much more efficient in your work.\n",
    "- The Open Source Community: When you write code locally, in your text editor or IDE for example (VS),\n",
    "YOU'RE the owner, and the only person who can actually see and/or use that code. Side note: the code\n",
    "that we write, say in a high-level language like Python, is referred to formally in CS circles as\n",
    "\"source code\" -> which is the highest layer of abstraction from the CPU (the CPU doesn't understand this code,\n",
    "it must be broken down per-say by various means of which I won't go into), but we are the source of the code.\n",
    "One amazing thing about GitHub is that the code we write, the source code, can be shared with millions of other\n",
    "developers across the world. Infact, some of the most influential software products and services today are products of the\n",
    "vibrant open source community on platforms like GitHub. Remember, the language we are learning (Python), is open source!\n",
    "Some influential open source projects over the past decade:\n",
    "    - TensorFlow: Google's DL framework, similar to META's PyTorch\n",
    "    - Linux (Kernal): Launched in 1991, but still highly relevant today - obviously\n",
    "    - React: If you are interested in WebDev at all, React from META (facebook) is a great tool\n",
    "    - Comma.ai: Fully open source self-driving software, yes, their algorithms are free and open to the public\n",
    "\n",
    "This are just some of many examples. You, the developer, via GitHub, can copy, contribute, and participate\n",
    "in these amazing projects. If you decide to engage with the open source community, or even just make your\n",
    "code publically available, you not only will enhance your skills, resume, and professional network, but could\n",
    "actually CHANGE THE WORLD!"
   ]
  },
  {
   "cell_type": "markdown",
   "metadata": {},
   "source": [
    "### Okay, but what is GitHub actually?\n",
    "- Without diving too deep into operating systems (OS), we can only give a relatively\n",
    "high-level overview of how Git and GitHub actually work. GitHub gets its name from\n",
    "Git, which is a distributed version control system. We can think of this as a sort\n",
    "of black box for now, but all it's really doing is tracking every move we make, as\n",
    "well as everyone else who is working on the same project. Git helps people manage\n",
    "their work on a project in a way that prevents changes made by one person from\n",
    "interfering with the changes made by others.\n",
    "- For example, when you write a new feature for a project, Git tracks the changes made\n",
    "to each file. When the new code or feature works, you \"commit\" the changes you have\n",
    "made. If there happens to be a mistake, it's always possible to revert back to the\n",
    "previous code that worked, making Git incredibly useful. These Git projects are\n",
    "stored in GitHub repositories (called \"repos\" for short) and contain essential\n",
    "information associated with the project: the code, contributors, \"issues,\" bug\n",
    "reports, and more!"
   ]
  },
  {
   "cell_type": "markdown",
   "metadata": {},
   "source": [
    "# Quick Overview\n",
    "- GitHub helps us maintain code and collaborate on software projects.\n",
    "- It's hard to learn at first, but gets easy over time.\n",
    "- Learn it now, and life is easier later on.\n",
    "- Lastly, you can literally change the world. ---> Why not you?\n",
    "\n",
    "Some Resources: they are everywhere\n",
    "- https://www.perforce.com/blog/vcs/what-dvcs\n",
    "- https://blog.hubspot.com/website/what-is-github-used-for\n",
    "\n",
    "# The Basic Git Commands:\n",
    "Here’s a short list of basic Git commands for beginner students:\n",
    "\n",
    "1. **`git init`** – Initializes a new Git repository.\n",
    "2. **`git clone [url]`** – Clones (copies) an existing repository from a URL.\n",
    "3. **`git add [file]`** – Stages a file (or files) for the next commit.\n",
    "4. **`git commit -m \"[message]\"`** – Commits staged changes with a descriptive message.\n",
    "5. **`git status`** – Shows the status of changes (staged, unstaged, untracked files).\n",
    "6. **`git pull`** – Fetches and merges changes from a remote repository.\n",
    "7. **`git push`** – Pushes committed changes to a remote repository.\n",
    "8. **`git log`** – Displays the commit history.\n",
    "\n",
    "Learn the commands\n",
    "- https://git-scm.com/docs"
   ]
  },
  {
   "cell_type": "markdown",
   "metadata": {},
   "source": [
    "# Today:\n",
    "- Create an account\n",
    "- Write a small script/program\n",
    "- Create Repository\n",
    "- Upload code\n",
    "- Grab code"
   ]
  },
  {
   "cell_type": "code",
   "execution_count": 1,
   "metadata": {},
   "outputs": [
    {
     "name": "stdout",
     "output_type": "stream",
     "text": [
      "This is my first github project\n"
     ]
    }
   ],
   "source": [
    "# SIMPLE SCRIPT: LC Two Sum Question"
   ]
  },
  {
   "cell_type": "markdown",
   "metadata": {},
   "source": [
    "# GIT DOWNLOAD HERE\n",
    "https://git-scm.com/downloads"
   ]
  }
 ],
 "metadata": {
  "kernelspec": {
   "display_name": "Python 3",
   "language": "python",
   "name": "python3"
  },
  "language_info": {
   "codemirror_mode": {
    "name": "ipython",
    "version": 3
   },
   "file_extension": ".py",
   "mimetype": "text/x-python",
   "name": "python",
   "nbconvert_exporter": "python",
   "pygments_lexer": "ipython3",
   "version": "3.11.5"
  }
 },
 "nbformat": 4,
 "nbformat_minor": 2
}
